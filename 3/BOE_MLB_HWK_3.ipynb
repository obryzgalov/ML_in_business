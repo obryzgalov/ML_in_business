{
 "cells": [
  {
   "cell_type": "markdown",
   "id": "78b0bacd",
   "metadata": {},
   "source": [
    "    1) обучить несколько разных моделей на наборе данных ССЗ (train_case2.csv): логрег, бустинг, лес и т.д - на ваш выбор 2-3 варианта\n",
    "    2) при обучении моделей обязательно использовать кроссвалидацию\n",
    "    3) вывести сравнение полученных моделей по основным метрикам классификации: pr/rec/auc/f_score (можно в виде таблицы, где строки - модели, а столбцы - метрики)\n",
    "    4) сделать выводы о том, какая модель справилась с задачей лучше других\n",
    "    5) (опциональный вопрос) какая метрика (precision_recall_curve или roc_auc_curve) больше подходит в случае сильного дисбаланса классов? (когда объектов одного из классов намного больше чем другого).\n",
    "    \n",
    "p.s.В вопросе проще разобраться, если вспомнить оси на графике roc auc curve и рассмотреть такой пример:\n",
    "\n",
    "Имеется 100000 объектов, из которых только 100 - класс \"1\" (99900 - класс \"0\", соответственно). Допустим, у нас две модели:\n",
    "\n",
    "первая помечает 100 объектов как класс 1, но TP = 90\n",
    "вторая помечает 1000 объектов как класс 1, но TP такой же - 90\n",
    "Какая модель лучше и почему? И что позволяет легче сделать вывод - roc_auc_curve или precision_recall_curve?"
   ]
  },
  {
   "cell_type": "markdown",
   "id": "62e55db9",
   "metadata": {},
   "source": [
    "# Домашняя работа №3:"
   ]
  },
  {
   "cell_type": "markdown",
   "id": "e26744c5",
   "metadata": {},
   "source": [
    "**Работа будет проводится на комплексном наборе данных для прогнозирования диабета на основе медицинских и демографических данных**:\n",
    "\n",
    "Нам необходимо предсказать наличие сердечно-сосудистых заболеваний по результатам классического врачебного осмотра. Датасет сформирован из 100.000 реальных клинических анализов, и в нём используются признаки, которые можно разбить на 3 группы:\n",
    "\n",
    "**Объективные признаки:**\n",
    "\n",
    "    Возраст\n",
    "    Рост\n",
    "    Вес\n",
    "    Пол\n",
    "    \n",
    "**Результаты измерения:**\n",
    "\n",
    "    Артериальное давление верхнее и нижнее\n",
    "    Холестерин\n",
    "    Глюкоза\n",
    "    \n",
    "**Субъективные признаки:**\n",
    "\n",
    "    Курение\n",
    "    Употребление Алкоголя\n",
    "    Физическая активность\n",
    "    \n",
    "*Возраст дан в днях. Значения показателей холестерина и глюкозы представлены одним из трех классов: норма, выше нормы, значительно выше нормы. Значения субъективных признаков — бинарны.*\n",
    "\n",
    "*Все показатели даны на момент осмотра.*\n",
    "\n",
    "Скорее всего тут необходимо делать подготовку данных, проверить наличие пропусков (причем не обязательно это будет NaN (это как раз неплохо если он, его легче искать), могут поставить и 0 там где данных по клиенту не \"хватило\"(имеются в виду не бинарные признаки, а такие например как возраст) или просто написать \"данных нет\". вобщем вариантов пропусков может быть много), сделать балансировку классов, при необходимость, проверить наличие выбросов и т.д.\n",
    "\n",
    "**Будем считать что работа по подготовке данных для последующего ML проведена и переходим к решению домашнего задания:**"
   ]
  },
  {
   "cell_type": "code",
   "execution_count": 1,
   "id": "1381c09d",
   "metadata": {},
   "outputs": [],
   "source": [
    "#!pip install xgboost"
   ]
  },
  {
   "cell_type": "code",
   "execution_count": 2,
   "id": "5f4127c8",
   "metadata": {},
   "outputs": [],
   "source": [
    "import numpy as np\n",
    "import pandas as pd\n",
    "import seaborn as sns\n",
    "import matplotlib.pyplot as plt\n",
    "import itertools\n",
    "\n",
    "from sklearn.feature_extraction.text import TfidfVectorizer\n",
    "from sklearn.preprocessing import StandardScaler\n",
    "from sklearn.pipeline import FeatureUnion\n",
    "from sklearn.linear_model import LogisticRegression\n",
    "from sklearn.ensemble import RandomForestClassifier\n",
    "import xgboost as xgb\n",
    "from sklearn.model_selection import cross_val_score, train_test_split\n",
    "from scipy.sparse import hstack\n",
    "from sklearn.pipeline import Pipeline, make_pipeline\n",
    "from sklearn.base import BaseEstimator, TransformerMixin\n",
    "from sklearn.metrics import precision_recall_curve, roc_curve, roc_auc_score, log_loss, confusion_matrix\n",
    "\n",
    "\n",
    "%matplotlib inline"
   ]
  },
  {
   "cell_type": "code",
   "execution_count": 3,
   "id": "fbe6070c",
   "metadata": {},
   "outputs": [
    {
     "data": {
      "text/html": [
       "<div>\n",
       "<style scoped>\n",
       "    .dataframe tbody tr th:only-of-type {\n",
       "        vertical-align: middle;\n",
       "    }\n",
       "\n",
       "    .dataframe tbody tr th {\n",
       "        vertical-align: top;\n",
       "    }\n",
       "\n",
       "    .dataframe thead th {\n",
       "        text-align: right;\n",
       "    }\n",
       "</style>\n",
       "<table border=\"1\" class=\"dataframe\">\n",
       "  <thead>\n",
       "    <tr style=\"text-align: right;\">\n",
       "      <th></th>\n",
       "      <th>id</th>\n",
       "      <th>age</th>\n",
       "      <th>gender</th>\n",
       "      <th>height</th>\n",
       "      <th>weight</th>\n",
       "      <th>ap_hi</th>\n",
       "      <th>ap_lo</th>\n",
       "      <th>cholesterol</th>\n",
       "      <th>gluc</th>\n",
       "      <th>smoke</th>\n",
       "      <th>alco</th>\n",
       "      <th>active</th>\n",
       "      <th>cardio</th>\n",
       "    </tr>\n",
       "  </thead>\n",
       "  <tbody>\n",
       "    <tr>\n",
       "      <th>0</th>\n",
       "      <td>0</td>\n",
       "      <td>18393</td>\n",
       "      <td>2</td>\n",
       "      <td>168</td>\n",
       "      <td>62.0</td>\n",
       "      <td>110</td>\n",
       "      <td>80</td>\n",
       "      <td>1</td>\n",
       "      <td>1</td>\n",
       "      <td>0</td>\n",
       "      <td>0</td>\n",
       "      <td>1</td>\n",
       "      <td>0</td>\n",
       "    </tr>\n",
       "    <tr>\n",
       "      <th>1</th>\n",
       "      <td>1</td>\n",
       "      <td>20228</td>\n",
       "      <td>1</td>\n",
       "      <td>156</td>\n",
       "      <td>85.0</td>\n",
       "      <td>140</td>\n",
       "      <td>90</td>\n",
       "      <td>3</td>\n",
       "      <td>1</td>\n",
       "      <td>0</td>\n",
       "      <td>0</td>\n",
       "      <td>1</td>\n",
       "      <td>1</td>\n",
       "    </tr>\n",
       "    <tr>\n",
       "      <th>2</th>\n",
       "      <td>2</td>\n",
       "      <td>18857</td>\n",
       "      <td>1</td>\n",
       "      <td>165</td>\n",
       "      <td>64.0</td>\n",
       "      <td>130</td>\n",
       "      <td>70</td>\n",
       "      <td>3</td>\n",
       "      <td>1</td>\n",
       "      <td>0</td>\n",
       "      <td>0</td>\n",
       "      <td>0</td>\n",
       "      <td>1</td>\n",
       "    </tr>\n",
       "  </tbody>\n",
       "</table>\n",
       "</div>"
      ],
      "text/plain": [
       "   id    age  gender  height  weight  ap_hi  ap_lo  cholesterol  gluc  smoke  \\\n",
       "0   0  18393       2     168    62.0    110     80            1     1      0   \n",
       "1   1  20228       1     156    85.0    140     90            3     1      0   \n",
       "2   2  18857       1     165    64.0    130     70            3     1      0   \n",
       "\n",
       "   alco  active  cardio  \n",
       "0     0       1       0  \n",
       "1     0       1       1  \n",
       "2     0       0       1  "
      ]
     },
     "execution_count": 3,
     "metadata": {},
     "output_type": "execute_result"
    }
   ],
   "source": [
    "df = pd.read_csv('train_case2.csv', sep = ';' )\n",
    "df.head(3)"
   ]
  },
  {
   "cell_type": "code",
   "execution_count": 4,
   "id": "5f107736",
   "metadata": {},
   "outputs": [],
   "source": [
    "#разделим данные на train/test\n",
    "X_train, X_test, y_train, y_test = train_test_split(df.drop('cardio', axis = 1), \n",
    "                                                    df['cardio'], random_state=0)"
   ]
  },
  {
   "cell_type": "markdown",
   "id": "80960cfb",
   "metadata": {},
   "source": [
    "К полям:\n",
    "- gender, cholesterol применим OHE-кодирование\n",
    "- age, height, weight, ap_hi, ap_lo - standardScaler\n",
    "- gluc, smoke, alco, active - оставим пока как есть"
   ]
  },
  {
   "cell_type": "code",
   "execution_count": 5,
   "id": "0e6a9238",
   "metadata": {},
   "outputs": [],
   "source": [
    "# Пайплайн для обработки данных, потом мы все трубочки сооденим в общий трубопровод\n",
    "class ColumnSelector(BaseEstimator, TransformerMixin):\n",
    "    \"\"\"\n",
    "    Transformer to select a single column from the data frame to perform additional transformations on\n",
    "    \"\"\"\n",
    "    def __init__(self, key):\n",
    "        self.key = key\n",
    "\n",
    "    def fit(self, X, y=None):\n",
    "        return self\n",
    "\n",
    "    def transform(self, X):\n",
    "        return X[self.key]\n",
    "    \n",
    "class NumberSelector(BaseEstimator, TransformerMixin):\n",
    "    \"\"\"\n",
    "    Transformer to select a single column from the data frame to perform additional transformations on\n",
    "    Use on numeric columns in the data\n",
    "    \"\"\"\n",
    "    def __init__(self, key):\n",
    "        self.key = key\n",
    "\n",
    "    def fit(self, X, y=None):\n",
    "        return self\n",
    "\n",
    "    def transform(self, X):\n",
    "        return X[[self.key]]\n",
    "    \n",
    "class OHEEncoder(BaseEstimator, TransformerMixin):\n",
    "    def __init__(self, key):\n",
    "        self.key = key\n",
    "        self.columns = []\n",
    "\n",
    "    def fit(self, X, y=None):\n",
    "        self.columns = [col for col in pd.get_dummies(X, prefix=self.key).columns]\n",
    "        return self\n",
    "\n",
    "    def transform(self, X):\n",
    "        X = pd.get_dummies(X, prefix=self.key)\n",
    "        test_columns = [col for col in X.columns]\n",
    "        for col_ in test_columns:\n",
    "            if col_ not in self.columns:\n",
    "                X[col_] = 0\n",
    "        return X[self.columns]\n",
    "\n",
    "\n",
    "from sklearn.preprocessing import StandardScaler\n",
    "\n",
    "\n",
    "continuos_cols = ['age', 'height', 'weight', 'ap_hi', 'ap_lo']\n",
    "cat_cols = ['gender', 'cholesterol']\n",
    "base_cols = ['gluc', 'smoke', 'alco', 'active']\n",
    "\n",
    "continuos_transformers = []\n",
    "cat_transformers = []\n",
    "base_transformers = []\n",
    "\n",
    "for cont_col in continuos_cols:\n",
    "    transfomer =  Pipeline([\n",
    "                ('selector', NumberSelector(key=cont_col)),\n",
    "                ('standard', StandardScaler())\n",
    "            ])\n",
    "    continuos_transformers.append((cont_col, transfomer))\n",
    "    \n",
    "for cat_col in cat_cols:\n",
    "    cat_transformer = Pipeline([\n",
    "                ('selector', ColumnSelector(key=cat_col)),\n",
    "                ('ohe', OHEEncoder(key=cat_col))\n",
    "            ])\n",
    "    cat_transformers.append((cat_col, cat_transformer))\n",
    "    \n",
    "for base_col in base_cols:\n",
    "    base_transformer = Pipeline([\n",
    "                ('selector', NumberSelector(key=base_col))\n",
    "            ])\n",
    "    base_transformers.append((base_col, base_transformer))"
   ]
  },
  {
   "cell_type": "code",
   "execution_count": 6,
   "id": "2986d171",
   "metadata": {},
   "outputs": [
    {
     "data": {
      "text/plain": [
       "array([[-1.73391771,  0.6873301 ,  0.74843904, ...,  1.        ,\n",
       "         0.        ,  1.        ],\n",
       "       [-1.67343538,  0.07758923, -0.29640123, ...,  0.        ,\n",
       "         0.        ,  1.        ],\n",
       "       [ 0.13738132,  1.17512278, -0.15708919, ...,  0.        ,\n",
       "         0.        ,  0.        ],\n",
       "       ...,\n",
       "       [ 1.17775864,  1.17512278, -0.15708919, ...,  0.        ,\n",
       "         0.        ,  1.        ],\n",
       "       [-0.47190715, -1.38578883,  0.74843904, ...,  0.        ,\n",
       "         0.        ,  1.        ],\n",
       "       [ 0.38174619,  0.56538192, -0.08743318, ...,  0.        ,\n",
       "         0.        ,  1.        ]])"
      ]
     },
     "execution_count": 6,
     "metadata": {},
     "output_type": "execute_result"
    }
   ],
   "source": [
    "#Теперь объединим все наши трансформеры с помощью FeatureUnion:\n",
    "\n",
    "feats = FeatureUnion(continuos_transformers+cat_transformers+base_transformers)\n",
    "\n",
    "# FeatureUnion соединяет все наши отдельные трубочки(пайплайны) в 1 большую матицу которая будет поданна в качестве признака\n",
    "\n",
    "feature_processing = Pipeline([('feats', feats)])\n",
    "\n",
    "feature_processing.fit_transform(X_train)"
   ]
  },
  {
   "cell_type": "code",
   "execution_count": 7,
   "id": "67583d5e",
   "metadata": {},
   "outputs": [],
   "source": [
    "model = ['LogisticRegression', 'XGBClassifier', 'RandomForestClassifier']\n",
    "fin_precision = []\n",
    "fin_recall = []\n",
    "fin_fscore = []\n",
    "fin_roc_auc = []"
   ]
  },
  {
   "cell_type": "code",
   "execution_count": 8,
   "id": "92a62fe8",
   "metadata": {},
   "outputs": [
    {
     "name": "stdout",
     "output_type": "stream",
     "text": [
      "CV score is 0.7847797116959196+-0.008728953249214647\n"
     ]
    }
   ],
   "source": [
    "#Добавим классификатор и запустим кросс-валидацию:\n",
    "\n",
    "classifier = Pipeline([\n",
    "    ('features',feats),\n",
    "    ('classifier', LogisticRegression(C = 0.1, random_state = 42)),\n",
    "])\n",
    "\n",
    "\n",
    "\n",
    "#запустим кросс-валидацию\n",
    "cv_scores = cross_val_score(classifier, X_train, y_train, cv=16, scoring='roc_auc')\n",
    "cv_score = np.mean(cv_scores)\n",
    "cv_score_std = np.std(cv_scores)\n",
    "print('CV score is {}+-{}'.format(cv_score, cv_score_std))\n",
    "\n",
    "fin_roc_auc.append(cv_score)\n",
    "\n",
    "#обучим пайплайн на всем тренировочном датасете\n",
    "classifier.fit(X_train, y_train)\n",
    "y_score = classifier.predict_proba(X_test)[:, 1]"
   ]
  },
  {
   "cell_type": "code",
   "execution_count": 9,
   "id": "e971a901",
   "metadata": {},
   "outputs": [
    {
     "name": "stdout",
     "output_type": "stream",
     "text": [
      "Best Threshold=0.389193, F-Score=0.729, Precision=0.645, Recall=0.839\n"
     ]
    }
   ],
   "source": [
    "#Посчитаем precision/recall/f_score\n",
    "\n",
    "b=1\n",
    "precision, recall, thresholds = precision_recall_curve(y_test.values, y_score)\n",
    "fscore = (1+b**2)*(precision * recall) / (b**2*precision + recall)\n",
    "# locate the index of the largest f score\n",
    "ix = np.argmax(fscore)\n",
    "print('Best Threshold=%f, F-Score=%.3f, Precision=%.3f, Recall=%.3f' % (thresholds[ix], \n",
    "                                                                        fscore[ix],\n",
    "                                                                        precision[ix],\n",
    "                                                                        recall[ix]))\n",
    "\n",
    "fin_precision.append(precision[ix])\n",
    "fin_recall.append(recall[ix])\n",
    "fin_fscore.append(fscore[ix])"
   ]
  },
  {
   "cell_type": "code",
   "execution_count": 10,
   "id": "432b8a3b",
   "metadata": {},
   "outputs": [
    {
     "name": "stdout",
     "output_type": "stream",
     "text": [
      "CV score is 0.7974879407860951+-0.006447877492510205\n"
     ]
    }
   ],
   "source": [
    "#Добавим классификатор и запустим кросс-валидацию:\n",
    "\n",
    "classifier_1 = Pipeline([\n",
    "    ('features',feats),\n",
    "    ('XGBClassifier', xgb.XGBClassifier(random_state=21)),\n",
    "])\n",
    "\n",
    "\n",
    "#запустим кросс-валидацию\n",
    "cv_scores = cross_val_score(classifier_1, X_train, y_train, cv=16, scoring='roc_auc')\n",
    "cv_score = np.mean(cv_scores)\n",
    "cv_score_std = np.std(cv_scores)\n",
    "print('CV score is {}+-{}'.format(cv_score, cv_score_std))\n",
    "\n",
    "fin_roc_auc.append(cv_score)\n",
    "\n",
    "#обучим пайплайн на всем тренировочном датасете\n",
    "classifier_1.fit(X_train, y_train)\n",
    "y_score_1 = classifier_1.predict_proba(X_test)[:, 1]\n",
    "\n",
    "#model_xgb = xgb.XGBClassifier(random_state=21)"
   ]
  },
  {
   "cell_type": "code",
   "execution_count": 11,
   "id": "b5f11f29",
   "metadata": {},
   "outputs": [
    {
     "name": "stdout",
     "output_type": "stream",
     "text": [
      "Best Threshold=0.347103, F-Score=0.738, Precision=0.665, Recall=0.828\n"
     ]
    }
   ],
   "source": [
    "#Посчитаем precision/recall/f_score\n",
    "\n",
    "b=1\n",
    "precision, recall, thresholds = precision_recall_curve(y_test.values, y_score_1)\n",
    "fscore = (1+b**2)*(precision * recall) / (b**2*precision + recall)\n",
    "# locate the index of the largest f score\n",
    "ix = np.argmax(fscore)\n",
    "print('Best Threshold=%f, F-Score=%.3f, Precision=%.3f, Recall=%.3f' % (thresholds[ix], \n",
    "                                                                        fscore[ix],\n",
    "                                                                        precision[ix],\n",
    "                                                                        recall[ix]))\n",
    "\n",
    "fin_precision.append(precision[ix])\n",
    "fin_recall.append(recall[ix])\n",
    "fin_fscore.append(fscore[ix])"
   ]
  },
  {
   "cell_type": "code",
   "execution_count": 12,
   "id": "461d520e",
   "metadata": {},
   "outputs": [
    {
     "name": "stdout",
     "output_type": "stream",
     "text": [
      "CV score is 0.7740192922041457+-0.00753304357245972\n"
     ]
    }
   ],
   "source": [
    "#Добавим классификатор и запустим кросс-валидацию:\n",
    "\n",
    "classifier_2 = Pipeline([\n",
    "    ('features',feats),\n",
    "    ('RandomForestClassifier', RandomForestClassifier(random_state=21)),\n",
    "])\n",
    "\n",
    "\n",
    "#запустим кросс-валидацию\n",
    "cv_scores = cross_val_score(classifier_2, X_train, y_train, cv=16, scoring='roc_auc')\n",
    "cv_score = np.mean(cv_scores)\n",
    "cv_score_std = np.std(cv_scores)\n",
    "print('CV score is {}+-{}'.format(cv_score, cv_score_std))\n",
    "\n",
    "fin_roc_auc.append(cv_score)\n",
    "\n",
    "#обучим пайплайн на всем тренировочном датасете\n",
    "classifier_2.fit(X_train, y_train)\n",
    "y_score_2 = classifier_2.predict_proba(X_test)[:, 1]\n"
   ]
  },
  {
   "cell_type": "code",
   "execution_count": 13,
   "id": "73d96fcd",
   "metadata": {},
   "outputs": [
    {
     "name": "stdout",
     "output_type": "stream",
     "text": [
      "Best Threshold=0.340000, F-Score=0.721, Precision=0.641, Recall=0.825\n"
     ]
    }
   ],
   "source": [
    "#Посчитаем precision/recall/f_score\n",
    "\n",
    "b=1\n",
    "precision, recall, thresholds = precision_recall_curve(y_test.values, y_score_2)\n",
    "fscore = (1+b**2)*(precision * recall) / (b**2*precision + recall)\n",
    "# locate the index of the largest f score\n",
    "ix = np.argmax(fscore)\n",
    "print('Best Threshold=%f, F-Score=%.3f, Precision=%.3f, Recall=%.3f' % (thresholds[ix], \n",
    "                                                                        fscore[ix],\n",
    "                                                                        precision[ix],\n",
    "                                                                        recall[ix]))\n",
    "\n",
    "fin_precision.append(precision[ix])\n",
    "fin_recall.append(recall[ix])\n",
    "fin_fscore.append(fscore[ix])"
   ]
  },
  {
   "cell_type": "code",
   "execution_count": 14,
   "id": "77e39264",
   "metadata": {},
   "outputs": [],
   "source": [
    "results = pd.DataFrame(np.column_stack([model, fin_precision, fin_recall, fin_fscore, fin_roc_auc]), \n",
    "                               columns=['model', 'precision', 'recall', 'fscore', 'roc_auc'])"
   ]
  },
  {
   "cell_type": "code",
   "execution_count": 15,
   "id": "0a860ac8",
   "metadata": {},
   "outputs": [
    {
     "data": {
      "text/html": [
       "<div>\n",
       "<style scoped>\n",
       "    .dataframe tbody tr th:only-of-type {\n",
       "        vertical-align: middle;\n",
       "    }\n",
       "\n",
       "    .dataframe tbody tr th {\n",
       "        vertical-align: top;\n",
       "    }\n",
       "\n",
       "    .dataframe thead th {\n",
       "        text-align: right;\n",
       "    }\n",
       "</style>\n",
       "<table border=\"1\" class=\"dataframe\">\n",
       "  <thead>\n",
       "    <tr style=\"text-align: right;\">\n",
       "      <th></th>\n",
       "      <th>model</th>\n",
       "      <th>precision</th>\n",
       "      <th>recall</th>\n",
       "      <th>fscore</th>\n",
       "      <th>roc_auc</th>\n",
       "    </tr>\n",
       "  </thead>\n",
       "  <tbody>\n",
       "    <tr>\n",
       "      <th>0</th>\n",
       "      <td>LogisticRegression</td>\n",
       "      <td>0.6445073913428344</td>\n",
       "      <td>0.8388248847926267</td>\n",
       "      <td>0.7289382790208742</td>\n",
       "      <td>0.7847797116959196</td>\n",
       "    </tr>\n",
       "    <tr>\n",
       "      <th>1</th>\n",
       "      <td>XGBClassifier</td>\n",
       "      <td>0.6652479644707624</td>\n",
       "      <td>0.8283410138248848</td>\n",
       "      <td>0.7378899835796389</td>\n",
       "      <td>0.7974879407860951</td>\n",
       "    </tr>\n",
       "    <tr>\n",
       "      <th>2</th>\n",
       "      <td>RandomForestClassifier</td>\n",
       "      <td>0.6409383954154728</td>\n",
       "      <td>0.8246543778801844</td>\n",
       "      <td>0.7212817412333736</td>\n",
       "      <td>0.7740192922041457</td>\n",
       "    </tr>\n",
       "  </tbody>\n",
       "</table>\n",
       "</div>"
      ],
      "text/plain": [
       "                    model           precision              recall  \\\n",
       "0      LogisticRegression  0.6445073913428344  0.8388248847926267   \n",
       "1           XGBClassifier  0.6652479644707624  0.8283410138248848   \n",
       "2  RandomForestClassifier  0.6409383954154728  0.8246543778801844   \n",
       "\n",
       "               fscore             roc_auc  \n",
       "0  0.7289382790208742  0.7847797116959196  \n",
       "1  0.7378899835796389  0.7974879407860951  \n",
       "2  0.7212817412333736  0.7740192922041457  "
      ]
     },
     "execution_count": 15,
     "metadata": {},
     "output_type": "execute_result"
    }
   ],
   "source": [
    "results"
   ]
  },
  {
   "cell_type": "markdown",
   "id": "87174020",
   "metadata": {},
   "source": [
    "Хуже всего справилась модель LogisticRegression, это может быть связано с тем, что из всех моделей она самая чувствительная(к выбросам, пропускам и т.д.) также она классическая, но старого поколения за счет чего может часто проигрывать более современным моделям даже написанным на ее же основе. RandomForestClassifier и XGBClassifier обе эти модели в основе имеют деревья и более хороший показатель XGBClassifier возможно связано с тем, что это более современная модель."
   ]
  },
  {
   "cell_type": "markdown",
   "id": "1490292a",
   "metadata": {},
   "source": [
    "5) (опциональный вопрос) какая метрика (precision_recall_curve или roc_auc_curve) больше подходит в случае сильного дисбаланса классов? (когда объектов одного из классов намного больше чем другого)."
   ]
  },
  {
   "cell_type": "markdown",
   "id": "bd93dc22",
   "metadata": {},
   "source": [
    "Кривые ROC следует использовать, когда имеется примерно одинаковое количество наблюдений для каждого класса.\n",
    "Кривые Precision-Recall следует использовать при наличии дисбаланса класса от среднего до большого.\n",
    "Причиной этой рекомендации является то, что кривые ROC представляют оптимистическую картину модели для наборов данных с классовым дисбалансом.\n",
    "\n",
    "Однако кривые ROC могут представлять чрезмерно оптимистичное представление о производительности алгоритма, если в распределении классов имеется большой перекос. Кривые Precision-Recall (PR), были приведены в качестве альтернативы кривым ROC для задач с большим перекосом в распределении классов.\n",
    "\n",
    "Соответственно если у нас данные примерно сбалансированные, то мы смело можем использовать roc_auc_curve, если мы имеем сильныйй перекос то необходимо использовать precision_recall"
   ]
  },
  {
   "cell_type": "code",
   "execution_count": null,
   "id": "cda5dc10",
   "metadata": {},
   "outputs": [],
   "source": []
  }
 ],
 "metadata": {
  "kernelspec": {
   "display_name": "Python 3 (ipykernel)",
   "language": "python",
   "name": "python3"
  },
  "language_info": {
   "codemirror_mode": {
    "name": "ipython",
    "version": 3
   },
   "file_extension": ".py",
   "mimetype": "text/x-python",
   "name": "python",
   "nbconvert_exporter": "python",
   "pygments_lexer": "ipython3",
   "version": "3.9.13"
  }
 },
 "nbformat": 4,
 "nbformat_minor": 5
}
