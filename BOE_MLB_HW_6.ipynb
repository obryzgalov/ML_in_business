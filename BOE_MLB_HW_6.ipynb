{
 "cells": [
  {
   "cell_type": "markdown",
   "id": "7bde9b0b",
   "metadata": {},
   "source": [
    "### Домашнее задание\n",
    "\n",
    "1. взять любой набор данных для бинарной классификации (можно скачать один из модельных с https://archive.ics.uci.edu/ml/datasets.php)\n",
    "3. сделать feature engineering\n",
    "4. обучить любой классификатор (какой вам нравится)\n",
    "5. далее разделить ваш набор данных на два множества: P (positives) и U (unlabeled). Причем брать нужно не все положительные (класс 1) примеры, а только лишь часть\n",
    "6. применить random negative sampling для построения классификатора в новых условиях\n",
    "7. сравнить качество с решением из пункта 4 (построить отчет - таблицу метрик)\n",
    "8. поэкспериментировать с долей P на шаге 5 (как будет меняться качество модели при уменьшении/увеличении размера P)\n"
   ]
  },
  {
   "cell_type": "markdown",
   "id": "3e4f4aea",
   "metadata": {},
   "source": [
    "**О наборе данных:**\n",
    "    \n",
    "Набор данных предоставил прогностические функции, такие как образование, статус занятости, семейное положение, чтобы предсказать, превышает ли зарплата 50 тысяч долларов.\n",
    "\n",
    "Его можно использовать для решения задач машинного обучения, таких как классификация."
   ]
  },
  {
   "cell_type": "code",
   "execution_count": 1,
   "id": "386b818f",
   "metadata": {},
   "outputs": [],
   "source": [
    "import pandas as pd\n",
    "import numpy as np\n",
    "from sklearn.pipeline import Pipeline, make_pipeline\n",
    "from sklearn.pipeline import FeatureUnion\n",
    "from sklearn.base import BaseEstimator, TransformerMixin\n",
    "from sklearn.preprocessing import OneHotEncoder\n",
    "from xgboost import XGBClassifier\n",
    "from sklearn.preprocessing import MinMaxScaler\n",
    "from sklearn.model_selection import train_test_split\n",
    "from sklearn.metrics import f1_score, roc_auc_score, precision_score, classification_report, precision_recall_curve, confusion_matrix\n"
   ]
  },
  {
   "cell_type": "code",
   "execution_count": 2,
   "id": "2f4a9d84",
   "metadata": {},
   "outputs": [
    {
     "data": {
      "text/html": [
       "<div>\n",
       "<style scoped>\n",
       "    .dataframe tbody tr th:only-of-type {\n",
       "        vertical-align: middle;\n",
       "    }\n",
       "\n",
       "    .dataframe tbody tr th {\n",
       "        vertical-align: top;\n",
       "    }\n",
       "\n",
       "    .dataframe thead th {\n",
       "        text-align: right;\n",
       "    }\n",
       "</style>\n",
       "<table border=\"1\" class=\"dataframe\">\n",
       "  <thead>\n",
       "    <tr style=\"text-align: right;\">\n",
       "      <th></th>\n",
       "      <th>age</th>\n",
       "      <th>workclass</th>\n",
       "      <th>fnlwgt</th>\n",
       "      <th>education</th>\n",
       "      <th>educational-num</th>\n",
       "      <th>marital-status</th>\n",
       "      <th>occupation</th>\n",
       "      <th>relationship</th>\n",
       "      <th>race</th>\n",
       "      <th>gender</th>\n",
       "      <th>capital-gain</th>\n",
       "      <th>capital-loss</th>\n",
       "      <th>hours-per-week</th>\n",
       "      <th>native-country</th>\n",
       "      <th>income_&gt;50K</th>\n",
       "    </tr>\n",
       "  </thead>\n",
       "  <tbody>\n",
       "    <tr>\n",
       "      <th>0</th>\n",
       "      <td>67</td>\n",
       "      <td>Private</td>\n",
       "      <td>366425</td>\n",
       "      <td>Doctorate</td>\n",
       "      <td>16</td>\n",
       "      <td>Divorced</td>\n",
       "      <td>Exec-managerial</td>\n",
       "      <td>Not-in-family</td>\n",
       "      <td>White</td>\n",
       "      <td>Male</td>\n",
       "      <td>99999</td>\n",
       "      <td>0</td>\n",
       "      <td>60</td>\n",
       "      <td>United-States</td>\n",
       "      <td>1</td>\n",
       "    </tr>\n",
       "    <tr>\n",
       "      <th>1</th>\n",
       "      <td>17</td>\n",
       "      <td>Private</td>\n",
       "      <td>244602</td>\n",
       "      <td>12th</td>\n",
       "      <td>8</td>\n",
       "      <td>Never-married</td>\n",
       "      <td>Other-service</td>\n",
       "      <td>Own-child</td>\n",
       "      <td>White</td>\n",
       "      <td>Male</td>\n",
       "      <td>0</td>\n",
       "      <td>0</td>\n",
       "      <td>15</td>\n",
       "      <td>United-States</td>\n",
       "      <td>0</td>\n",
       "    </tr>\n",
       "    <tr>\n",
       "      <th>2</th>\n",
       "      <td>31</td>\n",
       "      <td>Private</td>\n",
       "      <td>174201</td>\n",
       "      <td>Bachelors</td>\n",
       "      <td>13</td>\n",
       "      <td>Married-civ-spouse</td>\n",
       "      <td>Exec-managerial</td>\n",
       "      <td>Husband</td>\n",
       "      <td>White</td>\n",
       "      <td>Male</td>\n",
       "      <td>0</td>\n",
       "      <td>0</td>\n",
       "      <td>40</td>\n",
       "      <td>United-States</td>\n",
       "      <td>1</td>\n",
       "    </tr>\n",
       "    <tr>\n",
       "      <th>3</th>\n",
       "      <td>58</td>\n",
       "      <td>State-gov</td>\n",
       "      <td>110199</td>\n",
       "      <td>7th-8th</td>\n",
       "      <td>4</td>\n",
       "      <td>Married-civ-spouse</td>\n",
       "      <td>Transport-moving</td>\n",
       "      <td>Husband</td>\n",
       "      <td>White</td>\n",
       "      <td>Male</td>\n",
       "      <td>0</td>\n",
       "      <td>0</td>\n",
       "      <td>40</td>\n",
       "      <td>United-States</td>\n",
       "      <td>0</td>\n",
       "    </tr>\n",
       "    <tr>\n",
       "      <th>4</th>\n",
       "      <td>25</td>\n",
       "      <td>State-gov</td>\n",
       "      <td>149248</td>\n",
       "      <td>Some-college</td>\n",
       "      <td>10</td>\n",
       "      <td>Never-married</td>\n",
       "      <td>Other-service</td>\n",
       "      <td>Not-in-family</td>\n",
       "      <td>Black</td>\n",
       "      <td>Male</td>\n",
       "      <td>0</td>\n",
       "      <td>0</td>\n",
       "      <td>40</td>\n",
       "      <td>United-States</td>\n",
       "      <td>0</td>\n",
       "    </tr>\n",
       "    <tr>\n",
       "      <th>5</th>\n",
       "      <td>59</td>\n",
       "      <td>State-gov</td>\n",
       "      <td>105363</td>\n",
       "      <td>HS-grad</td>\n",
       "      <td>9</td>\n",
       "      <td>Never-married</td>\n",
       "      <td>Adm-clerical</td>\n",
       "      <td>Own-child</td>\n",
       "      <td>White</td>\n",
       "      <td>Male</td>\n",
       "      <td>0</td>\n",
       "      <td>0</td>\n",
       "      <td>40</td>\n",
       "      <td>United-States</td>\n",
       "      <td>0</td>\n",
       "    </tr>\n",
       "    <tr>\n",
       "      <th>6</th>\n",
       "      <td>70</td>\n",
       "      <td>Private</td>\n",
       "      <td>216390</td>\n",
       "      <td>9th</td>\n",
       "      <td>5</td>\n",
       "      <td>Married-civ-spouse</td>\n",
       "      <td>Machine-op-inspct</td>\n",
       "      <td>Wife</td>\n",
       "      <td>White</td>\n",
       "      <td>Female</td>\n",
       "      <td>2653</td>\n",
       "      <td>0</td>\n",
       "      <td>40</td>\n",
       "      <td>United-States</td>\n",
       "      <td>0</td>\n",
       "    </tr>\n",
       "  </tbody>\n",
       "</table>\n",
       "</div>"
      ],
      "text/plain": [
       "   age  workclass  fnlwgt     education  educational-num      marital-status  \\\n",
       "0   67    Private  366425     Doctorate               16            Divorced   \n",
       "1   17    Private  244602          12th                8       Never-married   \n",
       "2   31    Private  174201     Bachelors               13  Married-civ-spouse   \n",
       "3   58  State-gov  110199       7th-8th                4  Married-civ-spouse   \n",
       "4   25  State-gov  149248  Some-college               10       Never-married   \n",
       "5   59  State-gov  105363       HS-grad                9       Never-married   \n",
       "6   70    Private  216390           9th                5  Married-civ-spouse   \n",
       "\n",
       "          occupation   relationship   race  gender  capital-gain  \\\n",
       "0    Exec-managerial  Not-in-family  White    Male         99999   \n",
       "1      Other-service      Own-child  White    Male             0   \n",
       "2    Exec-managerial        Husband  White    Male             0   \n",
       "3   Transport-moving        Husband  White    Male             0   \n",
       "4      Other-service  Not-in-family  Black    Male             0   \n",
       "5       Adm-clerical      Own-child  White    Male             0   \n",
       "6  Machine-op-inspct           Wife  White  Female          2653   \n",
       "\n",
       "   capital-loss  hours-per-week native-country  income_>50K  \n",
       "0             0              60  United-States            1  \n",
       "1             0              15  United-States            0  \n",
       "2             0              40  United-States            1  \n",
       "3             0              40  United-States            0  \n",
       "4             0              40  United-States            0  \n",
       "5             0              40  United-States            0  \n",
       "6             0              40  United-States            0  "
      ]
     },
     "execution_count": 2,
     "metadata": {},
     "output_type": "execute_result"
    }
   ],
   "source": [
    "# № 1:\n",
    "df = pd.read_csv('C:/Users/User/Desktop/Машинное обучение в бизнесе/df/пред зп/train.csv')\n",
    "df.head(7)"
   ]
  },
  {
   "cell_type": "code",
   "execution_count": 3,
   "id": "688eae36",
   "metadata": {},
   "outputs": [
    {
     "name": "stdout",
     "output_type": "stream",
     "text": [
      "<class 'pandas.core.frame.DataFrame'>\n",
      "RangeIndex: 43957 entries, 0 to 43956\n",
      "Data columns (total 15 columns):\n",
      " #   Column           Non-Null Count  Dtype \n",
      "---  ------           --------------  ----- \n",
      " 0   age              43957 non-null  int64 \n",
      " 1   workclass        41459 non-null  object\n",
      " 2   fnlwgt           43957 non-null  int64 \n",
      " 3   education        43957 non-null  object\n",
      " 4   educational-num  43957 non-null  int64 \n",
      " 5   marital-status   43957 non-null  object\n",
      " 6   occupation       41451 non-null  object\n",
      " 7   relationship     43957 non-null  object\n",
      " 8   race             43957 non-null  object\n",
      " 9   gender           43957 non-null  object\n",
      " 10  capital-gain     43957 non-null  int64 \n",
      " 11  capital-loss     43957 non-null  int64 \n",
      " 12  hours-per-week   43957 non-null  int64 \n",
      " 13  native-country   43194 non-null  object\n",
      " 14  income_>50K      43957 non-null  int64 \n",
      "dtypes: int64(7), object(8)\n",
      "memory usage: 5.0+ MB\n"
     ]
    }
   ],
   "source": [
    "df.info()"
   ]
  },
  {
   "cell_type": "markdown",
   "id": "975748dc",
   "metadata": {},
   "source": [
    "Данных достаточно, так что все дамашнее задание выпольню на 1м файле."
   ]
  },
  {
   "cell_type": "code",
   "execution_count": 4,
   "id": "f1bc251e",
   "metadata": {},
   "outputs": [
    {
     "data": {
      "text/plain": [
       "income_>50K\n",
       "0    33439\n",
       "1    10518\n",
       "Name: count, dtype: int64"
      ]
     },
     "execution_count": 4,
     "metadata": {},
     "output_type": "execute_result"
    }
   ],
   "source": [
    "df['income_>50K'].value_counts()"
   ]
  },
  {
   "cell_type": "markdown",
   "id": "c77af236",
   "metadata": {},
   "source": [
    "мы видим, явный дисбаланс распределения, но балансировку мы делать не будем, т.к. при последующем делении на множества у нас могут возникнуть проблемы (п. 4)"
   ]
  },
  {
   "cell_type": "code",
   "execution_count": 5,
   "id": "074345ac",
   "metadata": {},
   "outputs": [],
   "source": [
    "#разделим данные на train/test\n",
    "X_train, X_test, y_train, y_test = train_test_split(df, df['income_>50K'], random_state=0)"
   ]
  },
  {
   "cell_type": "code",
   "execution_count": 6,
   "id": "67eb8b96",
   "metadata": {},
   "outputs": [],
   "source": [
    "# Категориальные признаки закодируем с помощью OneHotEncoding\n",
    "\n",
    "class FeatureSelector(BaseEstimator, TransformerMixin):\n",
    "    def __init__(self, column):\n",
    "        self.column = column\n",
    "\n",
    "    def fit(self, X, y=None):\n",
    "        return self\n",
    "\n",
    "    def transform(self, X, y=None):\n",
    "        return X[self.column]\n",
    "    \n",
    "class NumberSelector(BaseEstimator, TransformerMixin):\n",
    "    \"\"\"\n",
    "    Transformer to select a single column from the data frame to perform additional transformations on\n",
    "    Use on numeric columns in the data\n",
    "    \"\"\"\n",
    "    def __init__(self, key):\n",
    "        self.key = key\n",
    "\n",
    "    def fit(self, X, y=None):\n",
    "        return self\n",
    "\n",
    "    def transform(self, X):\n",
    "        return X[[self.key]]\n",
    "    \n",
    "class Normalizer(BaseEstimator, TransformerMixin):\n",
    "    def __init__(self, key):\n",
    "        self.key = key\n",
    "        \n",
    "    def fit(self,X, y=None):\n",
    "        return self\n",
    "    \n",
    "    def transform(self, X):\n",
    "        scaler = MinMaxScaler()\n",
    "        X[[self.key]] = scaler.fit_transform(X[[self.key]])\n",
    "        return X[[self.key]]\n",
    "        \n",
    "    \n",
    "class OHEEncoder(BaseEstimator, TransformerMixin):\n",
    "    def __init__(self, key):\n",
    "        self.key = key\n",
    "        self.columns = []\n",
    "\n",
    "    def fit(self, X, y=None):\n",
    "        self.columns = [col for col in pd.get_dummies(X, prefix=self.key).columns]\n",
    "        return self\n",
    "\n",
    "    def transform(self, X):\n",
    "        X = pd.get_dummies(X, prefix=self.key)\n",
    "        test_columns = [col for col in X.columns]\n",
    "        for col_ in self.columns:\n",
    "            if col_ not in test_columns:\n",
    "                X[col_] = 0\n",
    "        return X[self.columns]"
   ]
  },
  {
   "cell_type": "code",
   "execution_count": 7,
   "id": "917ab94c",
   "metadata": {},
   "outputs": [],
   "source": [
    "#Зададим списки признаков:\n",
    "categorical_columns = ['workclass', 'education', 'marital-status', 'occupation', 'relationship', 'race', 'gender', 'native-country']\n",
    "continuous_columns = ['age', 'fnlwgt', 'educational-num', 'capital-gain', 'capital-loss', 'hours-per-week']"
   ]
  },
  {
   "cell_type": "code",
   "execution_count": 8,
   "id": "229fda95",
   "metadata": {},
   "outputs": [],
   "source": [
    "#Теперь нам нужно под каждый признак создать трансформер и объединить их в список (сделаем это в цикле, чтобы не мучиться):\n",
    "final_transformers = list()\n",
    "\n",
    "for cat_col in categorical_columns:\n",
    "    cat_transformer = Pipeline([\n",
    "                ('selector', FeatureSelector(column=cat_col)),\n",
    "                ('ohe', OHEEncoder(key=cat_col))\n",
    "            ])\n",
    "    final_transformers.append((cat_col, cat_transformer))\n",
    "    \n",
    "for cont_col in continuous_columns:\n",
    "    cont_transformer = Pipeline([\n",
    "                ('selector', NumberSelector(key=cont_col)),\n",
    "                ('Min_max', Normalizer(key=cont_col))\n",
    "            ])\n",
    "    final_transformers.append((cont_col, cont_transformer))"
   ]
  },
  {
   "cell_type": "code",
   "execution_count": 9,
   "id": "52329438",
   "metadata": {},
   "outputs": [],
   "source": [
    "#Объединим все это в единый пайплайн:\n",
    "feats = FeatureUnion(final_transformers)\n",
    "\n",
    "feature_processing = Pipeline([('feats', feats)])"
   ]
  },
  {
   "cell_type": "code",
   "execution_count": 10,
   "id": "052034a4",
   "metadata": {},
   "outputs": [],
   "source": [
    "model = ['XGBClassifier', 'XGBClassifier_PU']\n",
    "fin_precision = []\n",
    "fin_recall = []\n",
    "fin_fscore = []"
   ]
  },
  {
   "cell_type": "code",
   "execution_count": 11,
   "id": "0e7db09e",
   "metadata": {},
   "outputs": [],
   "source": [
    "pipeline_xgb = Pipeline([\n",
    "    ('features',feats),\n",
    "    ('classifier', XGBClassifier(random_state = 12)),\n",
    "])"
   ]
  },
  {
   "cell_type": "code",
   "execution_count": 12,
   "id": "3db71595",
   "metadata": {},
   "outputs": [
    {
     "name": "stderr",
     "output_type": "stream",
     "text": [
      "C:\\Users\\User\\AppData\\Local\\Temp\\ipykernel_1216\\3110336458.py:36: SettingWithCopyWarning: \n",
      "A value is trying to be set on a copy of a slice from a DataFrame.\n",
      "Try using .loc[row_indexer,col_indexer] = value instead\n",
      "\n",
      "See the caveats in the documentation: https://pandas.pydata.org/pandas-docs/stable/user_guide/indexing.html#returning-a-view-versus-a-copy\n",
      "  X[[self.key]] = scaler.fit_transform(X[[self.key]])\n",
      "C:\\Users\\User\\AppData\\Local\\Temp\\ipykernel_1216\\3110336458.py:36: SettingWithCopyWarning: \n",
      "A value is trying to be set on a copy of a slice from a DataFrame.\n",
      "Try using .loc[row_indexer,col_indexer] = value instead\n",
      "\n",
      "See the caveats in the documentation: https://pandas.pydata.org/pandas-docs/stable/user_guide/indexing.html#returning-a-view-versus-a-copy\n",
      "  X[[self.key]] = scaler.fit_transform(X[[self.key]])\n",
      "C:\\Users\\User\\AppData\\Local\\Temp\\ipykernel_1216\\3110336458.py:36: SettingWithCopyWarning: \n",
      "A value is trying to be set on a copy of a slice from a DataFrame.\n",
      "Try using .loc[row_indexer,col_indexer] = value instead\n",
      "\n",
      "See the caveats in the documentation: https://pandas.pydata.org/pandas-docs/stable/user_guide/indexing.html#returning-a-view-versus-a-copy\n",
      "  X[[self.key]] = scaler.fit_transform(X[[self.key]])\n",
      "C:\\Users\\User\\AppData\\Local\\Temp\\ipykernel_1216\\3110336458.py:36: SettingWithCopyWarning: \n",
      "A value is trying to be set on a copy of a slice from a DataFrame.\n",
      "Try using .loc[row_indexer,col_indexer] = value instead\n",
      "\n",
      "See the caveats in the documentation: https://pandas.pydata.org/pandas-docs/stable/user_guide/indexing.html#returning-a-view-versus-a-copy\n",
      "  X[[self.key]] = scaler.fit_transform(X[[self.key]])\n",
      "C:\\Users\\User\\AppData\\Local\\Temp\\ipykernel_1216\\3110336458.py:36: SettingWithCopyWarning: \n",
      "A value is trying to be set on a copy of a slice from a DataFrame.\n",
      "Try using .loc[row_indexer,col_indexer] = value instead\n",
      "\n",
      "See the caveats in the documentation: https://pandas.pydata.org/pandas-docs/stable/user_guide/indexing.html#returning-a-view-versus-a-copy\n",
      "  X[[self.key]] = scaler.fit_transform(X[[self.key]])\n",
      "C:\\Users\\User\\AppData\\Local\\Temp\\ipykernel_1216\\3110336458.py:36: SettingWithCopyWarning: \n",
      "A value is trying to be set on a copy of a slice from a DataFrame.\n",
      "Try using .loc[row_indexer,col_indexer] = value instead\n",
      "\n",
      "See the caveats in the documentation: https://pandas.pydata.org/pandas-docs/stable/user_guide/indexing.html#returning-a-view-versus-a-copy\n",
      "  X[[self.key]] = scaler.fit_transform(X[[self.key]])\n"
     ]
    },
    {
     "data": {
      "text/plain": [
       "Pipeline(steps=[('features',\n",
       "                 FeatureUnion(transformer_list=[('workclass',\n",
       "                                                 Pipeline(steps=[('selector',\n",
       "                                                                  FeatureSelector(column='workclass')),\n",
       "                                                                 ('ohe',\n",
       "                                                                  OHEEncoder(key='workclass'))])),\n",
       "                                                ('education',\n",
       "                                                 Pipeline(steps=[('selector',\n",
       "                                                                  FeatureSelector(column='education')),\n",
       "                                                                 ('ohe',\n",
       "                                                                  OHEEncoder(key='education'))])),\n",
       "                                                ('marital-status',\n",
       "                                                 Pipeline(steps=[('selector',\n",
       "                                                                  FeatureSele...\n",
       "                               feature_types=None, gamma=None, gpu_id=None,\n",
       "                               grow_policy=None, importance_type=None,\n",
       "                               interaction_constraints=None, learning_rate=None,\n",
       "                               max_bin=None, max_cat_threshold=None,\n",
       "                               max_cat_to_onehot=None, max_delta_step=None,\n",
       "                               max_depth=None, max_leaves=None,\n",
       "                               min_child_weight=None, missing=nan,\n",
       "                               monotone_constraints=None, n_estimators=100,\n",
       "                               n_jobs=None, num_parallel_tree=None,\n",
       "                               predictor=None, random_state=12, ...))])"
      ]
     },
     "execution_count": 12,
     "metadata": {},
     "output_type": "execute_result"
    }
   ],
   "source": [
    "#обучим:\n",
    "pipeline_xgb.fit(X_train, y_train)"
   ]
  },
  {
   "cell_type": "code",
   "execution_count": 13,
   "id": "938cf405",
   "metadata": {},
   "outputs": [
    {
     "name": "stderr",
     "output_type": "stream",
     "text": [
      "C:\\Users\\User\\AppData\\Local\\Temp\\ipykernel_1216\\3110336458.py:36: SettingWithCopyWarning: \n",
      "A value is trying to be set on a copy of a slice from a DataFrame.\n",
      "Try using .loc[row_indexer,col_indexer] = value instead\n",
      "\n",
      "See the caveats in the documentation: https://pandas.pydata.org/pandas-docs/stable/user_guide/indexing.html#returning-a-view-versus-a-copy\n",
      "  X[[self.key]] = scaler.fit_transform(X[[self.key]])\n",
      "C:\\Users\\User\\AppData\\Local\\Temp\\ipykernel_1216\\3110336458.py:36: SettingWithCopyWarning: \n",
      "A value is trying to be set on a copy of a slice from a DataFrame.\n",
      "Try using .loc[row_indexer,col_indexer] = value instead\n",
      "\n",
      "See the caveats in the documentation: https://pandas.pydata.org/pandas-docs/stable/user_guide/indexing.html#returning-a-view-versus-a-copy\n",
      "  X[[self.key]] = scaler.fit_transform(X[[self.key]])\n",
      "C:\\Users\\User\\AppData\\Local\\Temp\\ipykernel_1216\\3110336458.py:36: SettingWithCopyWarning: \n",
      "A value is trying to be set on a copy of a slice from a DataFrame.\n",
      "Try using .loc[row_indexer,col_indexer] = value instead\n",
      "\n",
      "See the caveats in the documentation: https://pandas.pydata.org/pandas-docs/stable/user_guide/indexing.html#returning-a-view-versus-a-copy\n",
      "  X[[self.key]] = scaler.fit_transform(X[[self.key]])\n",
      "C:\\Users\\User\\AppData\\Local\\Temp\\ipykernel_1216\\3110336458.py:36: SettingWithCopyWarning: \n",
      "A value is trying to be set on a copy of a slice from a DataFrame.\n",
      "Try using .loc[row_indexer,col_indexer] = value instead\n",
      "\n",
      "See the caveats in the documentation: https://pandas.pydata.org/pandas-docs/stable/user_guide/indexing.html#returning-a-view-versus-a-copy\n",
      "  X[[self.key]] = scaler.fit_transform(X[[self.key]])\n",
      "C:\\Users\\User\\AppData\\Local\\Temp\\ipykernel_1216\\3110336458.py:36: SettingWithCopyWarning: \n",
      "A value is trying to be set on a copy of a slice from a DataFrame.\n",
      "Try using .loc[row_indexer,col_indexer] = value instead\n",
      "\n",
      "See the caveats in the documentation: https://pandas.pydata.org/pandas-docs/stable/user_guide/indexing.html#returning-a-view-versus-a-copy\n",
      "  X[[self.key]] = scaler.fit_transform(X[[self.key]])\n",
      "C:\\Users\\User\\AppData\\Local\\Temp\\ipykernel_1216\\3110336458.py:36: SettingWithCopyWarning: \n",
      "A value is trying to be set on a copy of a slice from a DataFrame.\n",
      "Try using .loc[row_indexer,col_indexer] = value instead\n",
      "\n",
      "See the caveats in the documentation: https://pandas.pydata.org/pandas-docs/stable/user_guide/indexing.html#returning-a-view-versus-a-copy\n",
      "  X[[self.key]] = scaler.fit_transform(X[[self.key]])\n"
     ]
    },
    {
     "data": {
      "text/plain": [
       "array([7.9207110e-01, 4.2868730e-01, 1.8846151e-01, 6.0545275e-04,\n",
       "       6.3171441e-04, 1.2223635e-04, 1.9925129e-02, 3.1236744e-02,\n",
       "       1.8771054e-01, 1.3990406e-02], dtype=float32)"
      ]
     },
     "execution_count": 13,
     "metadata": {},
     "output_type": "execute_result"
    }
   ],
   "source": [
    "#наши прогнозы для тестовой выборки\n",
    "preds_xgb = pipeline_xgb.predict_proba(X_test)[:, 1]\n",
    "preds_xgb[:10]"
   ]
  },
  {
   "cell_type": "code",
   "execution_count": 14,
   "id": "146280d9",
   "metadata": {},
   "outputs": [
    {
     "name": "stdout",
     "output_type": "stream",
     "text": [
      "Best Threshold=0.359162, F-Score=0.723, Precision=0.683, Recall=0.768\n"
     ]
    }
   ],
   "source": [
    "#Посчитаем precision/recall/f_score\n",
    "\n",
    "precision, recall, thresholds = precision_recall_curve(y_test, preds_xgb)\n",
    "\n",
    "fscore = (2 * precision * recall) / (precision + recall)\n",
    "# locate the index of the largest f score\n",
    "ix_xgb = np.argmax(fscore)\n",
    "print('Best Threshold=%f, F-Score=%.3f, Precision=%.3f, Recall=%.3f' % (thresholds[ix_xgb], \n",
    "                                                                        fscore[ix_xgb],\n",
    "                                                                        precision[ix_xgb],\n",
    "                                                                        recall[ix_xgb]))\n",
    "\n",
    "fin_precision.append(precision[ix_xgb])\n",
    "fin_recall.append(recall[ix_xgb])\n",
    "fin_fscore.append(fscore[ix_xgb])"
   ]
  },
  {
   "cell_type": "code",
   "execution_count": 15,
   "id": "6bb47ba4",
   "metadata": {},
   "outputs": [
    {
     "name": "stdout",
     "output_type": "stream",
     "text": [
      "Используем 5259/10518 как Р отстальные уйдут в неизвестные\n"
     ]
    }
   ],
   "source": [
    "df_new = df.copy()\n",
    "#берем индексы Р выборки \n",
    "p_i = np.where(df_new.iloc[:,-1].values == 1)[0]\n",
    "\n",
    "np.random.shuffle(p_i) #перемешиваем Р\n",
    "\n",
    "#Отделяем, после ручной настройки (задание 7) 50 % \n",
    "p_sample_len = int(np.ceil(0.5 * len(p_i)))\n",
    "print(f'Используем {p_sample_len}/{len(p_i)} как Р отстальные уйдут в неизвестные')\n",
    "p_sample = p_i[:p_sample_len]"
   ]
  },
  {
   "cell_type": "markdown",
   "id": "f0f7f04c",
   "metadata": {},
   "source": [
    "Создаем столбец для новой целевой переменной, где у нас два класса - P (1) и U (-1)"
   ]
  },
  {
   "cell_type": "code",
   "execution_count": 16,
   "id": "2316e78e",
   "metadata": {},
   "outputs": [
    {
     "name": "stdout",
     "output_type": "stream",
     "text": [
      "новое распределение:\n",
      " test\n",
      "-1    38698\n",
      " 1     5259\n",
      "Name: count, dtype: int64\n"
     ]
    }
   ],
   "source": [
    "df_new['test'] = -1\n",
    "df_new.loc[p_sample,'test'] = 1\n",
    "print('новое распределение:\\n', df_new.iloc[:,-1].value_counts())"
   ]
  },
  {
   "cell_type": "code",
   "execution_count": 17,
   "id": "99f2e067",
   "metadata": {},
   "outputs": [
    {
     "name": "stdout",
     "output_type": "stream",
     "text": [
      "(5259, 16) (5259, 16)\n"
     ]
    }
   ],
   "source": [
    "df_new = df_new.sample(frac=1)# берем выборку\n",
    "n_sample = df_new[df_new['test']==-1][:len(df_new[df_new['test']==1])] # в негативные вписываем все -1, но по количеству позитивных, что бы было 50/50\n",
    "sample_test = df_new[df_new['test']==-1][len(df_new[df_new['test']==1]):] # забираем все оставшиеся неизвесные\n",
    "p_sample = df_new[df_new['test']==1] \n",
    "print(n_sample.shape, p_sample.shape)\n",
    "sample_train = pd.concat([n_sample, p_sample]).sample(frac=1)"
   ]
  },
  {
   "cell_type": "code",
   "execution_count": 18,
   "id": "e86ed2df",
   "metadata": {},
   "outputs": [],
   "source": [
    "pipeline_xgb_sample = Pipeline([\n",
    "    ('features',feats),\n",
    "    ('classifier', XGBClassifier(random_state = 12)),\n",
    "])"
   ]
  },
  {
   "cell_type": "code",
   "execution_count": 19,
   "id": "ca88450a",
   "metadata": {},
   "outputs": [
    {
     "data": {
      "text/plain": [
       "array([[26, 'Private', 366900, ..., 0, 40, 'United-States'],\n",
       "       [50, 'Self-emp-inc', 82578, ..., 0, 40, 'United-States'],\n",
       "       [43, 'Private', 117037, ..., 2042, 40, 'United-States'],\n",
       "       ...,\n",
       "       [56, 'Private', 125000, ..., 0, 40, 'United-States'],\n",
       "       [35, 'Private', 393673, ..., 0, 40, 'United-States'],\n",
       "       [30, 'Never-worked', 176673, ..., 0, 40, 'United-States']],\n",
       "      dtype=object)"
      ]
     },
     "execution_count": 19,
     "metadata": {},
     "output_type": "execute_result"
    }
   ],
   "source": [
    "sample_train.iloc[:,:-2].values"
   ]
  },
  {
   "cell_type": "code",
   "execution_count": 20,
   "id": "6533f975",
   "metadata": {
    "scrolled": false
   },
   "outputs": [
    {
     "name": "stderr",
     "output_type": "stream",
     "text": [
      "C:\\Users\\User\\AppData\\Local\\Temp\\ipykernel_1216\\3110336458.py:36: SettingWithCopyWarning: \n",
      "A value is trying to be set on a copy of a slice from a DataFrame.\n",
      "Try using .loc[row_indexer,col_indexer] = value instead\n",
      "\n",
      "See the caveats in the documentation: https://pandas.pydata.org/pandas-docs/stable/user_guide/indexing.html#returning-a-view-versus-a-copy\n",
      "  X[[self.key]] = scaler.fit_transform(X[[self.key]])\n",
      "C:\\Users\\User\\AppData\\Local\\Temp\\ipykernel_1216\\3110336458.py:36: SettingWithCopyWarning: \n",
      "A value is trying to be set on a copy of a slice from a DataFrame.\n",
      "Try using .loc[row_indexer,col_indexer] = value instead\n",
      "\n",
      "See the caveats in the documentation: https://pandas.pydata.org/pandas-docs/stable/user_guide/indexing.html#returning-a-view-versus-a-copy\n",
      "  X[[self.key]] = scaler.fit_transform(X[[self.key]])\n",
      "C:\\Users\\User\\AppData\\Local\\Temp\\ipykernel_1216\\3110336458.py:36: SettingWithCopyWarning: \n",
      "A value is trying to be set on a copy of a slice from a DataFrame.\n",
      "Try using .loc[row_indexer,col_indexer] = value instead\n",
      "\n",
      "See the caveats in the documentation: https://pandas.pydata.org/pandas-docs/stable/user_guide/indexing.html#returning-a-view-versus-a-copy\n",
      "  X[[self.key]] = scaler.fit_transform(X[[self.key]])\n",
      "C:\\Users\\User\\AppData\\Local\\Temp\\ipykernel_1216\\3110336458.py:36: SettingWithCopyWarning: \n",
      "A value is trying to be set on a copy of a slice from a DataFrame.\n",
      "Try using .loc[row_indexer,col_indexer] = value instead\n",
      "\n",
      "See the caveats in the documentation: https://pandas.pydata.org/pandas-docs/stable/user_guide/indexing.html#returning-a-view-versus-a-copy\n",
      "  X[[self.key]] = scaler.fit_transform(X[[self.key]])\n",
      "C:\\Users\\User\\AppData\\Local\\Temp\\ipykernel_1216\\3110336458.py:36: SettingWithCopyWarning: \n",
      "A value is trying to be set on a copy of a slice from a DataFrame.\n",
      "Try using .loc[row_indexer,col_indexer] = value instead\n",
      "\n",
      "See the caveats in the documentation: https://pandas.pydata.org/pandas-docs/stable/user_guide/indexing.html#returning-a-view-versus-a-copy\n",
      "  X[[self.key]] = scaler.fit_transform(X[[self.key]])\n",
      "C:\\Users\\User\\AppData\\Local\\Temp\\ipykernel_1216\\3110336458.py:36: SettingWithCopyWarning: \n",
      "A value is trying to be set on a copy of a slice from a DataFrame.\n",
      "Try using .loc[row_indexer,col_indexer] = value instead\n",
      "\n",
      "See the caveats in the documentation: https://pandas.pydata.org/pandas-docs/stable/user_guide/indexing.html#returning-a-view-versus-a-copy\n",
      "  X[[self.key]] = scaler.fit_transform(X[[self.key]])\n",
      "C:\\Users\\User\\AppData\\Local\\Temp\\ipykernel_1216\\3110336458.py:36: SettingWithCopyWarning: \n",
      "A value is trying to be set on a copy of a slice from a DataFrame.\n",
      "Try using .loc[row_indexer,col_indexer] = value instead\n",
      "\n",
      "See the caveats in the documentation: https://pandas.pydata.org/pandas-docs/stable/user_guide/indexing.html#returning-a-view-versus-a-copy\n",
      "  X[[self.key]] = scaler.fit_transform(X[[self.key]])\n",
      "C:\\Users\\User\\AppData\\Local\\Temp\\ipykernel_1216\\3110336458.py:36: SettingWithCopyWarning: \n",
      "A value is trying to be set on a copy of a slice from a DataFrame.\n",
      "Try using .loc[row_indexer,col_indexer] = value instead\n",
      "\n",
      "See the caveats in the documentation: https://pandas.pydata.org/pandas-docs/stable/user_guide/indexing.html#returning-a-view-versus-a-copy\n",
      "  X[[self.key]] = scaler.fit_transform(X[[self.key]])\n",
      "C:\\Users\\User\\AppData\\Local\\Temp\\ipykernel_1216\\3110336458.py:36: SettingWithCopyWarning: \n",
      "A value is trying to be set on a copy of a slice from a DataFrame.\n",
      "Try using .loc[row_indexer,col_indexer] = value instead\n",
      "\n",
      "See the caveats in the documentation: https://pandas.pydata.org/pandas-docs/stable/user_guide/indexing.html#returning-a-view-versus-a-copy\n",
      "  X[[self.key]] = scaler.fit_transform(X[[self.key]])\n",
      "C:\\Users\\User\\AppData\\Local\\Temp\\ipykernel_1216\\3110336458.py:36: SettingWithCopyWarning: \n",
      "A value is trying to be set on a copy of a slice from a DataFrame.\n",
      "Try using .loc[row_indexer,col_indexer] = value instead\n",
      "\n",
      "See the caveats in the documentation: https://pandas.pydata.org/pandas-docs/stable/user_guide/indexing.html#returning-a-view-versus-a-copy\n",
      "  X[[self.key]] = scaler.fit_transform(X[[self.key]])\n",
      "C:\\Users\\User\\AppData\\Local\\Temp\\ipykernel_1216\\3110336458.py:36: SettingWithCopyWarning: \n",
      "A value is trying to be set on a copy of a slice from a DataFrame.\n",
      "Try using .loc[row_indexer,col_indexer] = value instead\n",
      "\n",
      "See the caveats in the documentation: https://pandas.pydata.org/pandas-docs/stable/user_guide/indexing.html#returning-a-view-versus-a-copy\n",
      "  X[[self.key]] = scaler.fit_transform(X[[self.key]])\n",
      "C:\\Users\\User\\AppData\\Local\\Temp\\ipykernel_1216\\3110336458.py:36: SettingWithCopyWarning: \n",
      "A value is trying to be set on a copy of a slice from a DataFrame.\n",
      "Try using .loc[row_indexer,col_indexer] = value instead\n",
      "\n",
      "See the caveats in the documentation: https://pandas.pydata.org/pandas-docs/stable/user_guide/indexing.html#returning-a-view-versus-a-copy\n",
      "  X[[self.key]] = scaler.fit_transform(X[[self.key]])\n"
     ]
    }
   ],
   "source": [
    "#обучим:\n",
    "pipeline_xgb_sample.fit(sample_train.iloc[:,:-2], \n",
    "          sample_train.iloc[:,-2])\n",
    "y_pred = pipeline_xgb_sample.predict(sample_test.iloc[:,:-2])"
   ]
  },
  {
   "cell_type": "code",
   "execution_count": 21,
   "id": "f459508c",
   "metadata": {},
   "outputs": [
    {
     "name": "stderr",
     "output_type": "stream",
     "text": [
      "C:\\Users\\User\\AppData\\Local\\Temp\\ipykernel_1216\\3110336458.py:36: SettingWithCopyWarning: \n",
      "A value is trying to be set on a copy of a slice from a DataFrame.\n",
      "Try using .loc[row_indexer,col_indexer] = value instead\n",
      "\n",
      "See the caveats in the documentation: https://pandas.pydata.org/pandas-docs/stable/user_guide/indexing.html#returning-a-view-versus-a-copy\n",
      "  X[[self.key]] = scaler.fit_transform(X[[self.key]])\n",
      "C:\\Users\\User\\AppData\\Local\\Temp\\ipykernel_1216\\3110336458.py:36: SettingWithCopyWarning: \n",
      "A value is trying to be set on a copy of a slice from a DataFrame.\n",
      "Try using .loc[row_indexer,col_indexer] = value instead\n",
      "\n",
      "See the caveats in the documentation: https://pandas.pydata.org/pandas-docs/stable/user_guide/indexing.html#returning-a-view-versus-a-copy\n",
      "  X[[self.key]] = scaler.fit_transform(X[[self.key]])\n",
      "C:\\Users\\User\\AppData\\Local\\Temp\\ipykernel_1216\\3110336458.py:36: SettingWithCopyWarning: \n",
      "A value is trying to be set on a copy of a slice from a DataFrame.\n",
      "Try using .loc[row_indexer,col_indexer] = value instead\n",
      "\n",
      "See the caveats in the documentation: https://pandas.pydata.org/pandas-docs/stable/user_guide/indexing.html#returning-a-view-versus-a-copy\n",
      "  X[[self.key]] = scaler.fit_transform(X[[self.key]])\n",
      "C:\\Users\\User\\AppData\\Local\\Temp\\ipykernel_1216\\3110336458.py:36: SettingWithCopyWarning: \n",
      "A value is trying to be set on a copy of a slice from a DataFrame.\n",
      "Try using .loc[row_indexer,col_indexer] = value instead\n",
      "\n",
      "See the caveats in the documentation: https://pandas.pydata.org/pandas-docs/stable/user_guide/indexing.html#returning-a-view-versus-a-copy\n",
      "  X[[self.key]] = scaler.fit_transform(X[[self.key]])\n",
      "C:\\Users\\User\\AppData\\Local\\Temp\\ipykernel_1216\\3110336458.py:36: SettingWithCopyWarning: \n",
      "A value is trying to be set on a copy of a slice from a DataFrame.\n",
      "Try using .loc[row_indexer,col_indexer] = value instead\n",
      "\n",
      "See the caveats in the documentation: https://pandas.pydata.org/pandas-docs/stable/user_guide/indexing.html#returning-a-view-versus-a-copy\n",
      "  X[[self.key]] = scaler.fit_transform(X[[self.key]])\n",
      "C:\\Users\\User\\AppData\\Local\\Temp\\ipykernel_1216\\3110336458.py:36: SettingWithCopyWarning: \n",
      "A value is trying to be set on a copy of a slice from a DataFrame.\n",
      "Try using .loc[row_indexer,col_indexer] = value instead\n",
      "\n",
      "See the caveats in the documentation: https://pandas.pydata.org/pandas-docs/stable/user_guide/indexing.html#returning-a-view-versus-a-copy\n",
      "  X[[self.key]] = scaler.fit_transform(X[[self.key]])\n"
     ]
    },
    {
     "data": {
      "text/plain": [
       "array([7.9207110e-01, 4.2868730e-01, 1.8846151e-01, 6.0545275e-04,\n",
       "       6.3171441e-04, 1.2223635e-04, 1.9925129e-02, 3.1236744e-02,\n",
       "       1.8771054e-01, 1.3990406e-02], dtype=float32)"
      ]
     },
     "execution_count": 21,
     "metadata": {},
     "output_type": "execute_result"
    }
   ],
   "source": [
    "#наши прогнозы для тестовой выборки\n",
    "preds_xgb_sample = pipeline_xgb_sample.predict_proba(X_test)[:, 1]\n",
    "preds_xgb[:10]"
   ]
  },
  {
   "cell_type": "code",
   "execution_count": 22,
   "id": "e7e615f1",
   "metadata": {},
   "outputs": [
    {
     "name": "stdout",
     "output_type": "stream",
     "text": [
      "Best Threshold=0.703017, F-Score=0.734, Precision=0.675, Recall=0.805\n"
     ]
    }
   ],
   "source": [
    "#Посчитаем precision/recall/f_score\n",
    "\n",
    "precision, recall, thresholds = precision_recall_curve(y_test, preds_xgb_sample)\n",
    "\n",
    "fscore = (2 * precision * recall) / (precision + recall)\n",
    "# locate the index of the largest f score\n",
    "ix_xgb_PU = np.argmax(fscore)\n",
    "print('Best Threshold=%f, F-Score=%.3f, Precision=%.3f, Recall=%.3f' % (thresholds[ix_xgb_PU], \n",
    "                                                                        fscore[ix_xgb_PU],\n",
    "                                                                        precision[ix_xgb_PU],\n",
    "                                                                        recall[ix_xgb_PU]))\n",
    "\n",
    "fin_precision.append(precision[ix_xgb_PU])\n",
    "fin_recall.append(recall[ix_xgb_PU])\n",
    "fin_fscore.append(fscore[ix_xgb_PU])"
   ]
  },
  {
   "cell_type": "code",
   "execution_count": 23,
   "id": "2550e8f5",
   "metadata": {},
   "outputs": [],
   "source": [
    "results = pd.DataFrame(np.column_stack([model, fin_precision, fin_recall, fin_fscore]), \n",
    "                               columns=['model', 'precision', 'recall', 'fscore'])"
   ]
  },
  {
   "cell_type": "code",
   "execution_count": 24,
   "id": "dcd4d422",
   "metadata": {},
   "outputs": [
    {
     "data": {
      "text/html": [
       "<div>\n",
       "<style scoped>\n",
       "    .dataframe tbody tr th:only-of-type {\n",
       "        vertical-align: middle;\n",
       "    }\n",
       "\n",
       "    .dataframe tbody tr th {\n",
       "        vertical-align: top;\n",
       "    }\n",
       "\n",
       "    .dataframe thead th {\n",
       "        text-align: right;\n",
       "    }\n",
       "</style>\n",
       "<table border=\"1\" class=\"dataframe\">\n",
       "  <thead>\n",
       "    <tr style=\"text-align: right;\">\n",
       "      <th></th>\n",
       "      <th>model</th>\n",
       "      <th>precision</th>\n",
       "      <th>recall</th>\n",
       "      <th>fscore</th>\n",
       "    </tr>\n",
       "  </thead>\n",
       "  <tbody>\n",
       "    <tr>\n",
       "      <th>0</th>\n",
       "      <td>XGBClassifier</td>\n",
       "      <td>0.6828687967369137</td>\n",
       "      <td>0.7679663608562691</td>\n",
       "      <td>0.7229219143576826</td>\n",
       "    </tr>\n",
       "    <tr>\n",
       "      <th>1</th>\n",
       "      <td>XGBClassifier_PU</td>\n",
       "      <td>0.6746717899455652</td>\n",
       "      <td>0.8054281345565749</td>\n",
       "      <td>0.7342742638090259</td>\n",
       "    </tr>\n",
       "  </tbody>\n",
       "</table>\n",
       "</div>"
      ],
      "text/plain": [
       "              model           precision              recall  \\\n",
       "0     XGBClassifier  0.6828687967369137  0.7679663608562691   \n",
       "1  XGBClassifier_PU  0.6746717899455652  0.8054281345565749   \n",
       "\n",
       "               fscore  \n",
       "0  0.7229219143576826  \n",
       "1  0.7342742638090259  "
      ]
     },
     "execution_count": 24,
     "metadata": {},
     "output_type": "execute_result"
    }
   ],
   "source": [
    "results"
   ]
  },
  {
   "cell_type": "markdown",
   "id": "54c94f39",
   "metadata": {},
   "source": [
    "7) При изменении Р, получаем следующие результаты (fscore):\n",
    "    \n",
    "    0.6804865513106048 - 30%\n",
    "    0.6735081717977954 - 37%\n",
    "    0.7006439742410304 - 50%\n",
    "    0.6901615271659325 - 60%\n",
    "\n",
    "Самый хороший показатель при Р=50 "
   ]
  },
  {
   "cell_type": "code",
   "execution_count": null,
   "id": "f9c1f428",
   "metadata": {},
   "outputs": [],
   "source": []
  }
 ],
 "metadata": {
  "kernelspec": {
   "display_name": "Python 3 (ipykernel)",
   "language": "python",
   "name": "python3"
  },
  "language_info": {
   "codemirror_mode": {
    "name": "ipython",
    "version": 3
   },
   "file_extension": ".py",
   "mimetype": "text/x-python",
   "name": "python",
   "nbconvert_exporter": "python",
   "pygments_lexer": "ipython3",
   "version": "3.9.13"
  }
 },
 "nbformat": 4,
 "nbformat_minor": 5
}
